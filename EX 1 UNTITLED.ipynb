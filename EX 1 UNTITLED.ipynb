{
 "cells": [
  {
   "cell_type": "code",
   "execution_count": 1,
   "id": "2af18099",
   "metadata": {},
   "outputs": [],
   "source": [
    "import cv2\n",
    "s=cv2.imread('r.jpg',1)\n",
    "cv2.imshow('Tony',s)\n",
    "cv2.waitKey(0)\n",
    "cv2.destroyAllWindows()"
   ]
  },
  {
   "cell_type": "code",
   "execution_count": 2,
   "id": "ce1cfd54",
   "metadata": {},
   "outputs": [],
   "source": [
    "import cv2\n",
    "a=cv2.imread('r.jpg',1)\n",
    "cv2.imwrite('rj.jpg',a)\n",
    "cv2.imshow('man',a)\n",
    "cv2.waitKey(0)\n",
    "cv2.destroyAllWindows()"
   ]
  },
  {
   "cell_type": "code",
   "execution_count": 3,
   "id": "7dde0105",
   "metadata": {},
   "outputs": [
    {
     "name": "stdout",
     "output_type": "stream",
     "text": [
      "(400, 533, 3)\n"
     ]
    }
   ],
   "source": [
    "import cv2\n",
    "a=cv2.imread('r.jpg',1)\n",
    "print(a.shape)"
   ]
  },
  {
   "cell_type": "code",
   "execution_count": 9,
   "id": "38e178c0",
   "metadata": {},
   "outputs": [],
   "source": [
    "import cv2\n",
    "a=cv2.imread('r.jpg',1)\n",
    "import random\n",
    "for i in range (100):\n",
    "    for j in range(a.shape[1]):\n",
    "        a[i][j] = [random.randint(0,450),random.randint(0,420),random.randint(0,450)]\n",
    "cv2.imshow('Iron man',a)\n",
    "cv2.waitKey(0)\n",
    "cv2.destroyAllWindows()"
   ]
  },
  {
   "cell_type": "code",
   "execution_count": 11,
   "id": "6cdb2e82",
   "metadata": {},
   "outputs": [],
   "source": [
    "import cv2\n",
    "a=cv2.imread('r.jpg',1)\n",
    "tag = a[100:200,100:200]\n",
    "a[50:150,50:150] = tag\n",
    "cv2.imshow('Image',a)\n",
    "cv2.waitKey(0)\n",
    "cv2.destroyAllWindows()"
   ]
  },
  {
   "cell_type": "code",
   "execution_count": null,
   "id": "32993385",
   "metadata": {},
   "outputs": [],
   "source": []
  }
 ],
 "metadata": {
  "kernelspec": {
   "display_name": "Python 3 (ipykernel)",
   "language": "python",
   "name": "python3"
  },
  "language_info": {
   "codemirror_mode": {
    "name": "ipython",
    "version": 3
   },
   "file_extension": ".py",
   "mimetype": "text/x-python",
   "name": "python",
   "nbconvert_exporter": "python",
   "pygments_lexer": "ipython3",
   "version": "3.8.12"
  }
 },
 "nbformat": 4,
 "nbformat_minor": 5
}
